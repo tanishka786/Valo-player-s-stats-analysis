{
 "cells": [
  {
   "cell_type": "markdown",
   "id": "935fad55",
   "metadata": {
    "papermill": {
     "duration": 0.007835,
     "end_time": "2024-07-29T02:28:32.369993",
     "exception": false,
     "start_time": "2024-07-29T02:28:32.362158",
     "status": "completed"
    },
    "tags": []
   },
   "source": [
    "# Jayden Tsai - Valorant Scoreboard Prediction\n",
    "\n",
    "This project seeks to understand the causal relationship of various scoreboard statistics on the RR gain in the popular FPS Valorant.\n",
    "\n",
    "This project begins with basic exploratory data analysis, then attempts to construct a linear regression model and a black-box XGBoost model to determine if a strong causal relationship is present. Then, the model weights are analyzed to determine an 'optimal playstyle for Valorant players'.\n",
    "\n",
    "When first beginning this project in early 2023, I had no formal education in statistics and violated several assumptions of creating a multiple linear regression model, as well as failed to perform certain statistical tests due to the fact that I did not have time to explore these areas.\n",
    "\n",
    "- This project is being revisitied 1 year later in Feb 2024, after beginning a second-year Stats course to properly investigate the data.\n"
   ]
  },
  {
   "cell_type": "markdown",
   "id": "cb2d415a",
   "metadata": {
    "papermill": {
     "duration": 0.006335,
     "end_time": "2024-07-29T02:28:32.383324",
     "exception": false,
     "start_time": "2024-07-29T02:28:32.376989",
     "status": "completed"
    },
    "tags": []
   },
   "source": [
    "# Exploratory Data Analysis"
   ]
  },
  {
   "cell_type": "code",
   "execution_count": 1,
   "id": "73237b9c",
   "metadata": {
    "execution": {
     "iopub.execute_input": "2024-07-29T02:28:32.399886Z",
     "iopub.status.busy": "2024-07-29T02:28:32.399211Z",
     "iopub.status.idle": "2024-07-29T02:28:33.813523Z",
     "shell.execute_reply": "2024-07-29T02:28:33.811943Z"
    },
    "papermill": {
     "duration": 1.426965,
     "end_time": "2024-07-29T02:28:33.816987",
     "exception": false,
     "start_time": "2024-07-29T02:28:32.390022",
     "status": "completed"
    },
    "tags": []
   },
   "outputs": [],
   "source": [
    "#Pandas for dataframe manipulation\n",
    "import pandas as pd\n",
    "data = pd.read_csv('/kaggle/input/valorant-kills/Math IA Data Collection - Copy of exportData.csv')\n",
    "\n",
    "#Data Visualization Libraries\n",
    "import seaborn as sn\n",
    "import matplotlib.pyplot as plt\n",
    "\n",
    "#Asign the predictor variables and target variable\n",
    "train_data = data[data.columns[1:]]\n",
    "target_data =  data[data.columns[0]]"
   ]
  },
  {
   "cell_type": "code",
   "execution_count": 2,
   "id": "ee9e4f99",
   "metadata": {
    "execution": {
     "iopub.execute_input": "2024-07-29T02:28:33.832530Z",
     "iopub.status.busy": "2024-07-29T02:28:33.831855Z",
     "iopub.status.idle": "2024-07-29T02:28:33.892995Z",
     "shell.execute_reply": "2024-07-29T02:28:33.891464Z"
    },
    "papermill": {
     "duration": 0.073058,
     "end_time": "2024-07-29T02:28:33.896698",
     "exception": false,
     "start_time": "2024-07-29T02:28:33.823640",
     "status": "completed"
    },
    "tags": []
   },
   "outputs": [
    {
     "data": {
      "text/html": [
       "<div>\n",
       "<style scoped>\n",
       "    .dataframe tbody tr th:only-of-type {\n",
       "        vertical-align: middle;\n",
       "    }\n",
       "\n",
       "    .dataframe tbody tr th {\n",
       "        vertical-align: top;\n",
       "    }\n",
       "\n",
       "    .dataframe thead th {\n",
       "        text-align: right;\n",
       "    }\n",
       "</style>\n",
       "<table border=\"1\" class=\"dataframe\">\n",
       "  <thead>\n",
       "    <tr style=\"text-align: right;\">\n",
       "      <th></th>\n",
       "      <th>Elo Gain</th>\n",
       "      <th>ACS</th>\n",
       "      <th>Econ</th>\n",
       "      <th>Enemy Losses</th>\n",
       "      <th>First Bloods</th>\n",
       "      <th>Plants</th>\n",
       "      <th>Defuses</th>\n",
       "      <th>Kills</th>\n",
       "      <th>Deaths</th>\n",
       "      <th>Assists</th>\n",
       "    </tr>\n",
       "  </thead>\n",
       "  <tbody>\n",
       "    <tr>\n",
       "      <th>count</th>\n",
       "      <td>252.000000</td>\n",
       "      <td>252.000000</td>\n",
       "      <td>252.000000</td>\n",
       "      <td>252.000000</td>\n",
       "      <td>252.00000</td>\n",
       "      <td>252.000000</td>\n",
       "      <td>252.000000</td>\n",
       "      <td>252.000000</td>\n",
       "      <td>252.000000</td>\n",
       "      <td>252.000000</td>\n",
       "    </tr>\n",
       "    <tr>\n",
       "      <th>mean</th>\n",
       "      <td>22.480159</td>\n",
       "      <td>230.130952</td>\n",
       "      <td>66.043651</td>\n",
       "      <td>8.075397</td>\n",
       "      <td>2.25000</td>\n",
       "      <td>1.412698</td>\n",
       "      <td>0.456349</td>\n",
       "      <td>16.773810</td>\n",
       "      <td>14.011905</td>\n",
       "      <td>5.761905</td>\n",
       "    </tr>\n",
       "    <tr>\n",
       "      <th>std</th>\n",
       "      <td>6.777306</td>\n",
       "      <td>72.272632</td>\n",
       "      <td>23.868708</td>\n",
       "      <td>3.141781</td>\n",
       "      <td>1.75064</td>\n",
       "      <td>1.819635</td>\n",
       "      <td>0.687161</td>\n",
       "      <td>5.391489</td>\n",
       "      <td>4.153894</td>\n",
       "      <td>2.972459</td>\n",
       "    </tr>\n",
       "    <tr>\n",
       "      <th>min</th>\n",
       "      <td>10.000000</td>\n",
       "      <td>74.000000</td>\n",
       "      <td>21.000000</td>\n",
       "      <td>0.000000</td>\n",
       "      <td>0.00000</td>\n",
       "      <td>0.000000</td>\n",
       "      <td>0.000000</td>\n",
       "      <td>3.000000</td>\n",
       "      <td>4.000000</td>\n",
       "      <td>0.000000</td>\n",
       "    </tr>\n",
       "    <tr>\n",
       "      <th>25%</th>\n",
       "      <td>18.000000</td>\n",
       "      <td>180.500000</td>\n",
       "      <td>50.000000</td>\n",
       "      <td>6.000000</td>\n",
       "      <td>1.00000</td>\n",
       "      <td>0.000000</td>\n",
       "      <td>0.000000</td>\n",
       "      <td>13.000000</td>\n",
       "      <td>11.000000</td>\n",
       "      <td>4.000000</td>\n",
       "    </tr>\n",
       "    <tr>\n",
       "      <th>50%</th>\n",
       "      <td>22.000000</td>\n",
       "      <td>224.000000</td>\n",
       "      <td>62.000000</td>\n",
       "      <td>9.000000</td>\n",
       "      <td>2.00000</td>\n",
       "      <td>1.000000</td>\n",
       "      <td>0.000000</td>\n",
       "      <td>16.500000</td>\n",
       "      <td>15.000000</td>\n",
       "      <td>5.000000</td>\n",
       "    </tr>\n",
       "    <tr>\n",
       "      <th>75%</th>\n",
       "      <td>27.000000</td>\n",
       "      <td>271.250000</td>\n",
       "      <td>79.000000</td>\n",
       "      <td>11.000000</td>\n",
       "      <td>3.00000</td>\n",
       "      <td>2.000000</td>\n",
       "      <td>1.000000</td>\n",
       "      <td>20.000000</td>\n",
       "      <td>17.000000</td>\n",
       "      <td>7.000000</td>\n",
       "    </tr>\n",
       "    <tr>\n",
       "      <th>max</th>\n",
       "      <td>43.000000</td>\n",
       "      <td>553.000000</td>\n",
       "      <td>178.000000</td>\n",
       "      <td>15.000000</td>\n",
       "      <td>9.00000</td>\n",
       "      <td>10.000000</td>\n",
       "      <td>4.000000</td>\n",
       "      <td>30.000000</td>\n",
       "      <td>24.000000</td>\n",
       "      <td>15.000000</td>\n",
       "    </tr>\n",
       "  </tbody>\n",
       "</table>\n",
       "</div>"
      ],
      "text/plain": [
       "         Elo Gain         ACS        Econ  Enemy Losses  First Bloods  \\\n",
       "count  252.000000  252.000000  252.000000    252.000000     252.00000   \n",
       "mean    22.480159  230.130952   66.043651      8.075397       2.25000   \n",
       "std      6.777306   72.272632   23.868708      3.141781       1.75064   \n",
       "min     10.000000   74.000000   21.000000      0.000000       0.00000   \n",
       "25%     18.000000  180.500000   50.000000      6.000000       1.00000   \n",
       "50%     22.000000  224.000000   62.000000      9.000000       2.00000   \n",
       "75%     27.000000  271.250000   79.000000     11.000000       3.00000   \n",
       "max     43.000000  553.000000  178.000000     15.000000       9.00000   \n",
       "\n",
       "           Plants     Defuses       Kills      Deaths     Assists  \n",
       "count  252.000000  252.000000  252.000000  252.000000  252.000000  \n",
       "mean     1.412698    0.456349   16.773810   14.011905    5.761905  \n",
       "std      1.819635    0.687161    5.391489    4.153894    2.972459  \n",
       "min      0.000000    0.000000    3.000000    4.000000    0.000000  \n",
       "25%      0.000000    0.000000   13.000000   11.000000    4.000000  \n",
       "50%      1.000000    0.000000   16.500000   15.000000    5.000000  \n",
       "75%      2.000000    1.000000   20.000000   17.000000    7.000000  \n",
       "max     10.000000    4.000000   30.000000   24.000000   15.000000  "
      ]
     },
     "execution_count": 2,
     "metadata": {},
     "output_type": "execute_result"
    }
   ],
   "source": [
    "data.describe()"
   ]
  },
  {
   "cell_type": "markdown",
   "id": "42905682",
   "metadata": {
    "papermill": {
     "duration": 0.00685,
     "end_time": "2024-07-29T02:28:33.910752",
     "exception": false,
     "start_time": "2024-07-29T02:28:33.903902",
     "status": "completed"
    },
    "tags": []
   },
   "source": []
  },
  {
   "cell_type": "code",
   "execution_count": 3,
   "id": "757ec00f",
   "metadata": {
    "execution": {
     "iopub.execute_input": "2024-07-29T02:28:33.927371Z",
     "iopub.status.busy": "2024-07-29T02:28:33.926885Z",
     "iopub.status.idle": "2024-07-29T02:28:36.478055Z",
     "shell.execute_reply": "2024-07-29T02:28:36.476308Z"
    },
    "papermill": {
     "duration": 2.563375,
     "end_time": "2024-07-29T02:28:36.481371",
     "exception": false,
     "start_time": "2024-07-29T02:28:33.917996",
     "status": "completed"
    },
    "tags": []
   },
   "outputs": [
    {
     "name": "stdout",
     "output_type": "stream",
     "text": [
      "Elo Gain\n",
      "AxesSubplot(0.125,0.125;0.775x0.755)\n"
     ]
    },
    {
     "data": {
      "image/png": "[encoded data removed]",
      "text/plain": [
       "<Figure size 432x288 with 1 Axes>"
      ]
     },
     "metadata": {
      "needs_background": "light"
     },
     "output_type": "display_data"
    },
    {
     "name": "stdout",
     "output_type": "stream",
     "text": [
      "ACS\n",
      "AxesSubplot(0.125,0.125;0.775x0.755)\n"
     ]
    },
    {
     "data": {
      "image/png": "[encoded data removed]",
      "text/plain": [
       "<Figure size 432x288 with 1 Axes>"
      ]
     },
     "metadata": {
      "needs_background": "light"
     },
     "output_type": "display_data"
    },
    {
     "name": "stdout",
     "output_type": "stream",
     "text": [
      "Econ\n",
      "AxesSubplot(0.125,0.125;0.775x0.755)\n"
     ]
    },
    {
     "data": {
      "image/png": "[encoded data removed]",
      "text/plain": [
       "<Figure size 432x288 with 1 Axes>"
      ]
     },
     "metadata": {
      "needs_background": "light"
     },
     "output_type": "display_data"
    },
    {
     "name": "stdout",
     "output_type": "stream",
     "text": [
      "Enemy Losses\n",
      "AxesSubplot(0.125,0.125;0.775x0.755)\n"
     ]
    },
    {
     "data": {
      "image/png": "[encoded data removed]",
      "text/plain": [
       "<Figure size 432x288 with 1 Axes>"
      ]
     },
     "metadata": {
      "needs_background": "light"
     },
     "output_type": "display_data"
    },
    {
     "name": "stdout",
     "output_type": "stream",
     "text": [
      "First Bloods\n",
      "AxesSubplot(0.125,0.125;0.775x0.755)\n"
     ]
    },
    {
     "data": {
      "image/png": "[encoded data removed]",
      "text/plain": [
       "<Figure size 432x288 with 1 Axes>"
      ]
     },
     "metadata": {
      "needs_background": "light"
     },
     "output_type": "display_data"
    },
    {
     "name": "stdout",
     "output_type": "stream",
     "text": [
      "Plants\n",
      "AxesSubplot(0.125,0.125;0.775x0.755)\n"
     ]
    },
    {
     "data": {
      "image/png": "[encoded data removed]",
      "text/plain": [
       "<Figure size 432x288 with 1 Axes>"
      ]
     },
     "metadata": {
      "needs_background": "light"
     },
     "output_type": "display_data"
    },
    {
     "name": "stdout",
     "output_type": "stream",
     "text": [
      "Defuses\n",
      "AxesSubplot(0.125,0.125;0.775x0.755)\n"
     ]
    },
    {
     "data": {
      "image/png": "[encoded data removed]",
      "text/plain": [
       "<Figure size 432x288 with 1 Axes>"
      ]
     },
     "metadata": {
      "needs_background": "light"
     },
     "output_type": "display_data"
    },
    {
     "name": "stdout",
     "output_type": "stream",
     "text": [
      "Kills\n",
      "AxesSubplot(0.125,0.125;0.775x0.755)\n"
     ]
    },
    {
     "data": {
      "image/png": "[encoded data removed]",
      "text/plain": [
       "<Figure size 432x288 with 1 Axes>"
      ]
     },
     "metadata": {
      "needs_background": "light"
     },
     "output_type": "display_data"
    },
    {
     "name": "stdout",
     "output_type": "stream",
     "text": [
      "Deaths\n",
      "AxesSubplot(0.125,0.125;0.775x0.755)\n"
     ]
    },
    {
     "data": {
      "image/png": "[encoded data removed]",
      "text/plain": [
       "<Figure size 432x288 with 1 Axes>"
      ]
     },
     "metadata": {
      "needs_background": "light"
     },
     "output_type": "display_data"
    },
    {
     "name": "stdout",
     "output_type": "stream",
     "text": [
      "Assists\n",
      "AxesSubplot(0.125,0.125;0.775x0.755)\n"
     ]
    },
    {
     "data": {
      "image/png": "[encoded data removed]",
      "text/plain": [
       "<Figure size 432x288 with 1 Axes>"
      ]
     },
     "metadata": {
      "needs_background": "light"
     },
     "output_type": "display_data"
    }
   ],
   "source": [
    "#Obtain a histogram of each data column\n",
    "for i in range(len(data.columns)):\n",
    "    currData = data[data.columns[i]]\n",
    "    plt.figure() #to prevent figures from overlapping\n",
    "    print(data.columns[i]) #title\n",
    "    print(currData.hist(bins='auto'))\n",
    "    plt.show() #display\n",
    "    plt.close(\"all\") #to prevent figures from overlapping"
   ]
  },
  {
   "cell_type": "markdown",
   "id": "e8e7a709",
   "metadata": {
    "papermill": {
     "duration": 0.010081,
     "end_time": "2024-07-29T02:28:36.502351",
     "exception": false,
     "start_time": "2024-07-29T02:28:36.492270",
     "status": "completed"
    },
    "tags": []
   },
   "source": [
    "# Observations:\n",
    "- Each of these data entries are integers\n",
    "    - the X-axis scale could be reconfigured, later\n",
    "- An exponential dstribution (needs confirmation) can be observed within the plants and defuses variables.\n",
    "- Most other variables have a roughly normal distribution\n",
    "    - at a later point in time, I will return using a QQ plot."
   ]
  },
  {
   "cell_type": "markdown",
   "id": "ca1874a3",
   "metadata": {
    "papermill": {
     "duration": 0.012216,
     "end_time": "2024-07-29T02:28:36.524879",
     "exception": false,
     "start_time": "2024-07-29T02:28:36.512663",
     "status": "completed"
    },
    "tags": []
   },
   "source": []
  },
  {
   "cell_type": "markdown",
   "id": "06d07cbc",
   "metadata": {
    "papermill": {
     "duration": 0.009995,
     "end_time": "2024-07-29T02:28:36.545746",
     "exception": false,
     "start_time": "2024-07-29T02:28:36.535751",
     "status": "completed"
    },
    "tags": []
   },
   "source": [
    "# Use Seaborn (sn) to generate a heatmap"
   ]
  },
  {
   "cell_type": "code",
   "execution_count": 4,
   "id": "486738ae",
   "metadata": {
    "execution": {
     "iopub.execute_input": "2024-07-29T02:28:36.568441Z",
     "iopub.status.busy": "2024-07-29T02:28:36.567867Z",
     "iopub.status.idle": "2024-07-29T02:28:37.258562Z",
     "shell.execute_reply": "2024-07-29T02:28:37.256815Z"
    },
    "papermill": {
     "duration": 0.705874,
     "end_time": "2024-07-29T02:28:37.261850",
     "exception": false,
     "start_time": "2024-07-29T02:28:36.555976",
     "status": "completed"
    },
    "tags": []
   },
   "outputs": [
    {
     "name": "stdout",
     "output_type": "stream",
     "text": [
      "Pearson correlation of elo gain and ACS:  0.7176250485464245\n",
      "Pearson correlation of elo gain and Econ:  0.6978453298965703\n",
      "Pearson correlation of elo gain and Enemy Losses:  -0.3804144117263042\n",
      "Pearson correlation of elo gain and First Bloods:  0.32160623299928426\n",
      "Pearson correlation of elo gain and Plants:  -0.023886016833846845\n",
      "Pearson correlation of elo gain and Defuses:  0.10076008066612213\n",
      "Pearson correlation of elo gain and Kills:  0.5274358782637524\n",
      "Pearson correlation of elo gain and Deaths:  -0.46764003134014487\n",
      "Pearson correlation of elo gain and Assists:  -0.06569622712237826\n"
     ]
    },
    {
     "data": {
      "image/png": "[encoded data removed]",
      "text/plain": [
       "<Figure size 432x288 with 2 Axes>"
      ]
     },
     "metadata": {
      "needs_background": "light"
     },
     "output_type": "display_data"
    }
   ],
   "source": [
    "#print feature names\n",
    "for featureNum,featureName in enumerate(data[data.columns[1:]]):\n",
    "    print(f\"Pearson correlation of elo gain and {featureName}: \", target_data.corr(data[data.columns[1+featureNum]]))\n",
    "\n",
    "#Feature Pearson Correlation\n",
    "corr_matrix = train_data.corr()\n",
    "sn.heatmap(corr_matrix, annot=True)\n",
    "\n",
    "plt.show()"
   ]
  },
  {
   "cell_type": "markdown",
   "id": "e23d0f0b",
   "metadata": {
    "papermill": {
     "duration": 0.010941,
     "end_time": "2024-07-29T02:28:37.284096",
     "exception": false,
     "start_time": "2024-07-29T02:28:37.273155",
     "status": "completed"
    },
    "tags": []
   },
   "source": [
    "# Heatmap Analysis\n",
    "From the model above, we can identify several highly correlated features. \n",
    "\n",
    "- Econ Score and ACS: 0.85 r score\n",
    "- Kills and ACS: 0.82 r score\n",
    "- Deaths and Enemy Losses: 0.84 r score\n",
    "- etc\n",
    "\n",
    "This violates the assumption of independent predictor variables for Multiple Linear Regression (MLR), thus this simple, interpretable model cannot be used (a mistake I did not catch in my initial notebook), unless data normalization is done.\n",
    "\n",
    "Going forward, XGBoost, a 'black-box' model will be used. Although its 'black-box' nature means that it is more difficult to interpret its findings, its increased predictive accuracy over MLR and more naive (simpler) algorithms indicate (more patterns learned from) (needs a new word) the dataset."
   ]
  },
  {
   "cell_type": "markdown",
   "id": "1fa174b1",
   "metadata": {
    "papermill": {
     "duration": 0.010853,
     "end_time": "2024-07-29T02:28:37.306579",
     "exception": false,
     "start_time": "2024-07-29T02:28:37.295726",
     "status": "completed"
    },
    "tags": []
   },
   "source": [
    "# Todo: Feature Selection and Training for MLR"
   ]
  },
  {
   "cell_type": "markdown",
   "id": "612c91db",
   "metadata": {
    "papermill": {
     "duration": 0.011198,
     "end_time": "2024-07-29T02:28:37.329045",
     "exception": false,
     "start_time": "2024-07-29T02:28:37.317847",
     "status": "completed"
    },
    "tags": []
   },
   "source": [
    "# XGBoost Model Building"
   ]
  },
  {
   "cell_type": "code",
   "execution_count": 5,
   "id": "d5966b8e",
   "metadata": {
    "execution": {
     "iopub.execute_input": "2024-07-29T02:28:37.354525Z",
     "iopub.status.busy": "2024-07-29T02:28:37.354015Z",
     "iopub.status.idle": "2024-07-29T02:28:37.746256Z",
     "shell.execute_reply": "2024-07-29T02:28:37.744818Z"
    },
    "papermill": {
     "duration": 0.408538,
     "end_time": "2024-07-29T02:28:37.749643",
     "exception": false,
     "start_time": "2024-07-29T02:28:37.341105",
     "status": "completed"
    },
    "tags": []
   },
   "outputs": [],
   "source": [
    "\n",
    "#models for regression\n",
    "from xgboost import XGBRegressor\n",
    "\n",
    "#EDA\n",
    "from matplotlib import pyplot\n",
    "\n",
    "#hyperparameter tuning \n",
    "from sklearn.model_selection import RandomizedSearchCV\n",
    "\n",
    "#evaluation metric for regression\n",
    "from sklearn.metrics import r2_score\n"
   ]
  },
  {
   "cell_type": "code",
   "execution_count": 6,
   "id": "22d8b0a4",
   "metadata": {
    "execution": {
     "iopub.execute_input": "2024-07-29T02:28:37.775725Z",
     "iopub.status.busy": "2024-07-29T02:28:37.775242Z",
     "iopub.status.idle": "2024-07-29T02:28:37.783342Z",
     "shell.execute_reply": "2024-07-29T02:28:37.781976Z"
    },
    "papermill": {
     "duration": 0.024709,
     "end_time": "2024-07-29T02:28:37.786249",
     "exception": false,
     "start_time": "2024-07-29T02:28:37.761540",
     "status": "completed"
    },
    "tags": []
   },
   "outputs": [],
   "source": [
    "#Stating possible XGBoost hyperparameters\n",
    "XGBparams = {\n",
    "#size = 960\n",
    " 'learning_rate': [0.05, 0.10, 0.15, 0.20],\n",
    " 'max_depth': [4, 6, 8, 10],\n",
    " 'min_child_weight': [1, 3, 5],\n",
    " 'colsample_bytree': [ 0.4, 0.6, 0.8, 1.0 ],\n",
    " 'n_estimators': [50,75,100,125,150]\n",
    "}"
   ]
  },
  {
   "cell_type": "code",
   "execution_count": 7,
   "id": "363687ab",
   "metadata": {
    "execution": {
     "iopub.execute_input": "2024-07-29T02:28:37.813062Z",
     "iopub.status.busy": "2024-07-29T02:28:37.812548Z",
     "iopub.status.idle": "2024-07-29T02:29:33.130431Z",
     "shell.execute_reply": "2024-07-29T02:29:33.129168Z"
    },
    "papermill": {
     "duration": 55.337078,
     "end_time": "2024-07-29T02:29:33.136472",
     "exception": false,
     "start_time": "2024-07-29T02:28:37.799394",
     "status": "completed"
    },
    "tags": []
   },
   "outputs": [
    {
     "name": "stdout",
     "output_type": "stream",
     "text": [
      "Fitting 4 folds for each of 120 candidates, totalling 480 fits\n",
      "XGBoost Feature Importance:\n"
     ]
    },
    {
     "data": {
      "image/png": "[encoded data removed]",
      "text/plain": [
       "<Figure size 432x288 with 1 Axes>"
      ]
     },
     "metadata": {
      "needs_background": "light"
     },
     "output_type": "display_data"
    },
    {
     "name": "stdout",
     "output_type": "stream",
     "text": [
      "Here's the R squared\n",
      "0.7904972509308105\n"
     ]
    }
   ],
   "source": [
    "seed = 42\n",
    "\n",
    "data = pd.read_csv('/kaggle/input/valorant-kills/Math IA Data Collection - Copy of exportData.csv')\n",
    "\n",
    "target_data = data[data.columns[0]]\n",
    "train_data = data[data.columns[1:]]\n",
    "\n",
    "\n",
    "XGBr = XGBRegressor()\n",
    "#search a quarter of hyperparameter space, since XGBoost is slow, 960/4 = 240\n",
    "XGBr_opt = RandomizedSearchCV(XGBr,param_distributions=XGBparams,n_iter=120,scoring='neg_mean_squared_error', n_jobs=-1,cv=4,verbose=1,random_state = seed)\n",
    "\n",
    "XGBr_opt.fit(train_data, target_data)\n",
    "XGBr = XGBr_opt.best_estimator_\n",
    "\n",
    "#find feature importance\n",
    "importance = XGBr.feature_importances_\n",
    "\n",
    "# plot feature importance\n",
    "print(\"XGBoost Feature Importance:\")\n",
    "pyplot.bar([x for x in range(len(importance))], importance)\n",
    "pyplot.xticks(range(len(importance)), train_data.columns, rotation=90)\n",
    "pyplot.xlabel('Features')\n",
    "pyplot.ylabel('Importance')\n",
    "pyplot.show()\n",
    "\n",
    "#evaluate model\n",
    "#lol data leakage\n",
    "XGBr_pred = XGBr.predict(train_data)\n",
    "XGBr_r2 = r2_score(target_data, XGBr_pred)\n",
    "\n",
    "print(\"Here's the R squared\")\n",
    "print(XGBr_r2)"
   ]
  },
  {
   "cell_type": "markdown",
   "id": "f18ba174",
   "metadata": {
    "papermill": {
     "duration": 0.011561,
     "end_time": "2024-07-29T02:29:33.161259",
     "exception": false,
     "start_time": "2024-07-29T02:29:33.149698",
     "status": "completed"
    },
    "tags": []
   },
   "source": []
  },
  {
   "cell_type": "markdown",
   "id": "4cdb4414",
   "metadata": {
    "papermill": {
     "duration": 0.011651,
     "end_time": "2024-07-29T02:29:33.184696",
     "exception": false,
     "start_time": "2024-07-29T02:29:33.173045",
     "status": "completed"
    },
    "tags": []
   },
   "source": [
    "\n",
    "# Analysis of R Squared and Feature Importance\n",
    "- From the XGBoost model, we can observe an R Squared value of 0.79, indicating a relatively high model score.\n",
    "- From the feature importance, we can see the great importance of ACS on RR gain\n",
    "\t- We can conclude that to optimize RR gain, one mut prioritize their ACS score, before other statistics."
   ]
  },
  {
   "cell_type": "markdown",
   "id": "bb01b53e",
   "metadata": {
    "papermill": {
     "duration": 0.012312,
     "end_time": "2024-07-29T02:29:33.208997",
     "exception": false,
     "start_time": "2024-07-29T02:29:33.196685",
     "status": "completed"
    },
    "tags": []
   },
   "source": [
    "# Conclusion\n",
    "\n",
    "In this notebook, we explored the quantitative effects of features on RR gain. A 0.79 r^2 value was obtained with an XGBoost model, demonstrating noise caused by Valorant's hidden MMR system. We discovered that ACS is the most important statistic to prioritize in order to get ahead of the competition.\n",
    "\n"
   ]
  },
  {
   "cell_type": "markdown",
   "id": "ccfcec2e",
   "metadata": {
    "papermill": {
     "duration": 0.011811,
     "end_time": "2024-07-29T02:29:33.233307",
     "exception": false,
     "start_time": "2024-07-29T02:29:33.221496",
     "status": "completed"
    },
    "tags": []
   },
   "source": [
    "# Further Exploration of this Topic\n",
    "\n",
    "\n",
    "This project could be improved with further EDA (checking normality assumptions and multicollinearity and homoskedacicity,etc), data engineering; including combining features, and properly testing for correlated features and data transformations (normalizing data, etc), creating confidence intervals for the model weights, and overall improving the quality of code.\n",
    "\n",
    "For further research, more recent data could be gathered, as well as a larger quantity of data, and with a proper sampling method.\n",
    "\n",
    "Here's more stuff you can do before I get to it:\n",
    "- feature engineering\n",
    "- improving code quality\n",
    "- other models\n",
    "- add proper feature importance "
   ]
  }
 ],
 "metadata": {
  "kaggle": {
   "accelerator": "none",
   "dataSources": [
    {
     "datasetId": 2835609,
     "sourceId": 5075198,
     "sourceType": "datasetVersion"
    }
   ],
   "dockerImageVersionId": 30357,
   "isGpuEnabled": false,
   "isInternetEnabled": true,
   "language": "python",
   "sourceType": "notebook"
  },
  "kernelspec": {
   "display_name": "Python 3",
   "language": "python",
   "name": "python3"
  },
  "language_info": {
   "codemirror_mode": {
    "name": "ipython",
    "version": 3
   },
   "file_extension": ".py",
   "mimetype": "text/x-python",
   "name": "python",
   "nbconvert_exporter": "python",
   "pygments_lexer": "ipython3",
   "version": "3.7.12"
  },
  "papermill": {
   "default_parameters": {},
   "duration": 77.253286,
   "end_time": "2024-07-29T02:29:35.869116",
   "environment_variables": {},
   "exception": null,
   "input_path": "__notebook__.ipynb",
   "output_path": "__notebook__.ipynb",
   "parameters": {},
   "start_time": "2024-07-29T02:28:18.615830",
   "version": "2.3.4"
  }
 },
 "nbformat": 4,
 "nbformat_minor": 5
}
