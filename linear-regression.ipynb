{
 "cells": [
  {
   "cell_type": "markdown",
   "id": "0eb23dbe",
   "metadata": {
    "papermill": {
     "duration": 0.005676,
     "end_time": "2023-04-06T16:50:06.530877",
     "exception": false,
     "start_time": "2023-04-06T16:50:06.525201",
     "status": "completed"
    },
    "tags": []
   },
   "source": [
    "# Linear Regression\n",
    "\n",
    "James Ian Solima\n",
    "\n",
    "4/5/2023"
   ]
  },
  {
   "cell_type": "code",
   "execution_count": 1,
   "id": "a4b3d8c9",
   "metadata": {
    "_cell_guid": "b1076dfc-b9ad-4769-8c92-a6c4dae69d19",
    "_uuid": "8f2839f25d086af736a60e9eeb907d3b93b6e0e5",
    "execution": {
     "iopub.execute_input": "2023-04-06T16:50:06.542410Z",
     "iopub.status.busy": "2023-04-06T16:50:06.541166Z",
     "iopub.status.idle": "2023-04-06T16:50:07.566451Z",
     "shell.execute_reply": "2023-04-06T16:50:07.564980Z"
    },
    "papermill": {
     "duration": 1.033588,
     "end_time": "2023-04-06T16:50:07.569000",
     "exception": false,
     "start_time": "2023-04-06T16:50:06.535412",
     "status": "completed"
    },
    "tags": []
   },
   "outputs": [
    {
     "name": "stdout",
     "output_type": "stream",
     "text": [
      "/kaggle/input/valorant-kills/Math IA Data Collection - FinalData.csv\n",
      "/kaggle/input/valorant-kills/Math IA Data Collection - Copy of exportData.csv\n"
     ]
    }
   ],
   "source": [
    "# This Python 3 environment comes with many helpful analytics libraries installed\n",
    "# It is defined by the kaggle/python Docker image: https://github.com/kaggle/docker-python\n",
    "# For example, here's several helpful packages to load\n",
    "\n",
    "import numpy as np # linear algebra\n",
    "import pandas as pd # data processing, CSV file I/O (e.g. pd.read_csv)\n",
    "from sklearn.linear_model import LinearRegression\n",
    "from sklearn.model_selection import train_test_split\n",
    "import matplotlib.pyplot as plt\n",
    "\n",
    "# Input data files are available in the read-only \"../input/\" directory\n",
    "# For example, running this (by clicking run or pressing Shift+Enter) will list all files under the input directory\n",
    "\n",
    "import os\n",
    "for dirname, _, filenames in os.walk('/kaggle/input'):\n",
    "    for filename in filenames:\n",
    "        print(os.path.join(dirname, filename))\n",
    "\n",
    "# You can write up to 20GB to the current directory (/kaggle/working/) that gets preserved as output when you create a version using \"Save & Run All\" \n",
    "# You can also write temporary files to /kaggle/temp/, but they won't be saved outside of the current session"
   ]
  },
  {
   "cell_type": "code",
   "execution_count": 2,
   "id": "ab55dbdf",
   "metadata": {
    "execution": {
     "iopub.execute_input": "2023-04-06T16:50:07.581009Z",
     "iopub.status.busy": "2023-04-06T16:50:07.579844Z",
     "iopub.status.idle": "2023-04-06T16:50:07.617559Z",
     "shell.execute_reply": "2023-04-06T16:50:07.616257Z"
    },
    "papermill": {
     "duration": 0.04676,
     "end_time": "2023-04-06T16:50:07.620485",
     "exception": false,
     "start_time": "2023-04-06T16:50:07.573725",
     "status": "completed"
    },
    "tags": []
   },
   "outputs": [
    {
     "data": {
      "text/html": [
       "<div>\n",
       "<style scoped>\n",
       "    .dataframe tbody tr th:only-of-type {\n",
       "        vertical-align: middle;\n",
       "    }\n",
       "\n",
       "    .dataframe tbody tr th {\n",
       "        vertical-align: top;\n",
       "    }\n",
       "\n",
       "    .dataframe thead th {\n",
       "        text-align: right;\n",
       "    }\n",
       "</style>\n",
       "<table border=\"1\" class=\"dataframe\">\n",
       "  <thead>\n",
       "    <tr style=\"text-align: right;\">\n",
       "      <th></th>\n",
       "      <th>Elo Gain</th>\n",
       "      <th>ACS</th>\n",
       "      <th>Econ</th>\n",
       "      <th>Enemy Losses</th>\n",
       "      <th>First Bloods</th>\n",
       "      <th>Plants</th>\n",
       "      <th>Defuses</th>\n",
       "      <th>Kills</th>\n",
       "      <th>Deaths</th>\n",
       "      <th>Assists</th>\n",
       "    </tr>\n",
       "  </thead>\n",
       "  <tbody>\n",
       "    <tr>\n",
       "      <th>0</th>\n",
       "      <td>31</td>\n",
       "      <td>303</td>\n",
       "      <td>80</td>\n",
       "      <td>9</td>\n",
       "      <td>6</td>\n",
       "      <td>0</td>\n",
       "      <td>0</td>\n",
       "      <td>23</td>\n",
       "      <td>15</td>\n",
       "      <td>7</td>\n",
       "    </tr>\n",
       "    <tr>\n",
       "      <th>1</th>\n",
       "      <td>38</td>\n",
       "      <td>367</td>\n",
       "      <td>101</td>\n",
       "      <td>1</td>\n",
       "      <td>4</td>\n",
       "      <td>0</td>\n",
       "      <td>0</td>\n",
       "      <td>18</td>\n",
       "      <td>8</td>\n",
       "      <td>7</td>\n",
       "    </tr>\n",
       "    <tr>\n",
       "      <th>2</th>\n",
       "      <td>21</td>\n",
       "      <td>211</td>\n",
       "      <td>54</td>\n",
       "      <td>12</td>\n",
       "      <td>3</td>\n",
       "      <td>0</td>\n",
       "      <td>0</td>\n",
       "      <td>18</td>\n",
       "      <td>18</td>\n",
       "      <td>5</td>\n",
       "    </tr>\n",
       "    <tr>\n",
       "      <th>3</th>\n",
       "      <td>19</td>\n",
       "      <td>227</td>\n",
       "      <td>64</td>\n",
       "      <td>11</td>\n",
       "      <td>5</td>\n",
       "      <td>0</td>\n",
       "      <td>1</td>\n",
       "      <td>19</td>\n",
       "      <td>17</td>\n",
       "      <td>5</td>\n",
       "    </tr>\n",
       "    <tr>\n",
       "      <th>4</th>\n",
       "      <td>21</td>\n",
       "      <td>218</td>\n",
       "      <td>55</td>\n",
       "      <td>8</td>\n",
       "      <td>2</td>\n",
       "      <td>0</td>\n",
       "      <td>0</td>\n",
       "      <td>18</td>\n",
       "      <td>13</td>\n",
       "      <td>2</td>\n",
       "    </tr>\n",
       "  </tbody>\n",
       "</table>\n",
       "</div>"
      ],
      "text/plain": [
       "   Elo Gain  ACS  Econ  Enemy Losses  First Bloods  Plants  Defuses  Kills  \\\n",
       "0        31  303    80             9             6       0        0     23   \n",
       "1        38  367   101             1             4       0        0     18   \n",
       "2        21  211    54            12             3       0        0     18   \n",
       "3        19  227    64            11             5       0        1     19   \n",
       "4        21  218    55             8             2       0        0     18   \n",
       "\n",
       "   Deaths  Assists  \n",
       "0      15        7  \n",
       "1       8        7  \n",
       "2      18        5  \n",
       "3      17        5  \n",
       "4      13        2  "
      ]
     },
     "execution_count": 2,
     "metadata": {},
     "output_type": "execute_result"
    }
   ],
   "source": [
    "val_df = pd.read_csv('/kaggle/input/valorant-kills/Math IA Data Collection - FinalData.csv')\n",
    "val_df.head()"
   ]
  },
  {
   "cell_type": "markdown",
   "id": "53ffcf21",
   "metadata": {
    "papermill": {
     "duration": 0.004483,
     "end_time": "2023-04-06T16:50:07.629892",
     "exception": false,
     "start_time": "2023-04-06T16:50:07.625409",
     "status": "completed"
    },
    "tags": []
   },
   "source": [
    "# Data from model, ELO Gain per Kills"
   ]
  },
  {
   "cell_type": "code",
   "execution_count": 3,
   "id": "930607b1",
   "metadata": {
    "execution": {
     "iopub.execute_input": "2023-04-06T16:50:07.641710Z",
     "iopub.status.busy": "2023-04-06T16:50:07.640569Z",
     "iopub.status.idle": "2023-04-06T16:50:07.648698Z",
     "shell.execute_reply": "2023-04-06T16:50:07.647322Z"
    },
    "papermill": {
     "duration": 0.016773,
     "end_time": "2023-04-06T16:50:07.651391",
     "exception": false,
     "start_time": "2023-04-06T16:50:07.634618",
     "status": "completed"
    },
    "tags": []
   },
   "outputs": [],
   "source": [
    "X = val_df['Elo Gain'].values\n",
    "y = val_df['Kills'].values"
   ]
  },
  {
   "cell_type": "markdown",
   "id": "4938fb41",
   "metadata": {
    "papermill": {
     "duration": 0.00458,
     "end_time": "2023-04-06T16:50:07.660944",
     "exception": false,
     "start_time": "2023-04-06T16:50:07.656364",
     "status": "completed"
    },
    "tags": []
   },
   "source": [
    "# Reshaping the ELO Gain Data"
   ]
  },
  {
   "cell_type": "code",
   "execution_count": 4,
   "id": "b489ecca",
   "metadata": {
    "execution": {
     "iopub.execute_input": "2023-04-06T16:50:07.672298Z",
     "iopub.status.busy": "2023-04-06T16:50:07.671866Z",
     "iopub.status.idle": "2023-04-06T16:50:07.677339Z",
     "shell.execute_reply": "2023-04-06T16:50:07.675993Z"
    },
    "papermill": {
     "duration": 0.013889,
     "end_time": "2023-04-06T16:50:07.679744",
     "exception": false,
     "start_time": "2023-04-06T16:50:07.665855",
     "status": "completed"
    },
    "tags": []
   },
   "outputs": [],
   "source": [
    "# Test Train Split needs data in this format to process\n",
    "X = X.reshape(-1,1)"
   ]
  },
  {
   "cell_type": "markdown",
   "id": "9159a6cc",
   "metadata": {
    "papermill": {
     "duration": 0.004441,
     "end_time": "2023-04-06T16:50:07.689016",
     "exception": false,
     "start_time": "2023-04-06T16:50:07.684575",
     "status": "completed"
    },
    "tags": []
   },
   "source": [
    "# Train, Test, Split Data"
   ]
  },
  {
   "cell_type": "code",
   "execution_count": 5,
   "id": "2156e7e7",
   "metadata": {
    "execution": {
     "iopub.execute_input": "2023-04-06T16:50:07.701390Z",
     "iopub.status.busy": "2023-04-06T16:50:07.700461Z",
     "iopub.status.idle": "2023-04-06T16:50:07.708551Z",
     "shell.execute_reply": "2023-04-06T16:50:07.707461Z"
    },
    "papermill": {
     "duration": 0.016979,
     "end_time": "2023-04-06T16:50:07.711040",
     "exception": false,
     "start_time": "2023-04-06T16:50:07.694061",
     "status": "completed"
    },
    "tags": []
   },
   "outputs": [],
   "source": [
    "# We're splitting the data up and grabbing 100 random rows, train 80%, test 20%\n",
    "X_train, X_test, y_train, y_test = train_test_split(X, y, train_size=.8, test_size=.2, random_state=100)"
   ]
  },
  {
   "cell_type": "markdown",
   "id": "a83c31c0",
   "metadata": {
    "papermill": {
     "duration": 0.004356,
     "end_time": "2023-04-06T16:50:07.720226",
     "exception": false,
     "start_time": "2023-04-06T16:50:07.715870",
     "status": "completed"
    },
    "tags": []
   },
   "source": [
    "# Plot the scatter points"
   ]
  },
  {
   "cell_type": "code",
   "execution_count": 6,
   "id": "3df1330d",
   "metadata": {
    "execution": {
     "iopub.execute_input": "2023-04-06T16:50:07.731648Z",
     "iopub.status.busy": "2023-04-06T16:50:07.730771Z",
     "iopub.status.idle": "2023-04-06T16:50:07.969326Z",
     "shell.execute_reply": "2023-04-06T16:50:07.968036Z"
    },
    "papermill": {
     "duration": 0.247141,
     "end_time": "2023-04-06T16:50:07.971954",
     "exception": false,
     "start_time": "2023-04-06T16:50:07.724813",
     "status": "completed"
    },
    "tags": []
   },
   "outputs": [
    {
     "data": {
      "image/png": "[encoded data removed]",
      "text/plain": [
       "<Figure size 640x480 with 1 Axes>"
      ]
     },
     "metadata": {},
     "output_type": "display_data"
    }
   ],
   "source": [
    "plt.scatter(X_train, y_train)\n",
    "plt.xlabel('ELO Gained')\n",
    "plt.ylabel('Kills Per Game')\n",
    "plt.title('ELO Gained per Game by Kills')\n",
    "plt.show()"
   ]
  },
  {
   "cell_type": "markdown",
   "id": "36de19e6",
   "metadata": {
    "papermill": {
     "duration": 0.004924,
     "end_time": "2023-04-06T16:50:07.982188",
     "exception": false,
     "start_time": "2023-04-06T16:50:07.977264",
     "status": "completed"
    },
    "tags": []
   },
   "source": [
    "# Regression Model Score"
   ]
  },
  {
   "cell_type": "code",
   "execution_count": 7,
   "id": "a0532ee2",
   "metadata": {
    "execution": {
     "iopub.execute_input": "2023-04-06T16:50:07.995068Z",
     "iopub.status.busy": "2023-04-06T16:50:07.994396Z",
     "iopub.status.idle": "2023-04-06T16:50:08.006922Z",
     "shell.execute_reply": "2023-04-06T16:50:08.005428Z"
    },
    "papermill": {
     "duration": 0.021647,
     "end_time": "2023-04-06T16:50:08.009161",
     "exception": false,
     "start_time": "2023-04-06T16:50:07.987514",
     "status": "completed"
    },
    "tags": []
   },
   "outputs": [
    {
     "name": "stdout",
     "output_type": "stream",
     "text": [
      "Train Accuracy 22.53%\n",
      "Test Accuracy 27.5%\n"
     ]
    }
   ],
   "source": [
    "lm = LinearRegression()\n",
    "lm.fit(X_train, y_train)\n",
    "y_predict = lm.predict(X_test)\n",
    "print(f'Train Accuracy {round(lm.score(X_train, y_train)* 100,2)}%')\n",
    "print(f'Test Accuracy {round(lm.score(X_test, y_test)* 100,2)}%')"
   ]
  },
  {
   "cell_type": "markdown",
   "id": "a8792dfd",
   "metadata": {
    "papermill": {
     "duration": 0.005087,
     "end_time": "2023-04-06T16:50:08.019773",
     "exception": false,
     "start_time": "2023-04-06T16:50:08.014686",
     "status": "completed"
    },
    "tags": []
   },
   "source": [
    "# Display Trained Model with Linear Regression"
   ]
  },
  {
   "cell_type": "code",
   "execution_count": 8,
   "id": "da42a633",
   "metadata": {
    "execution": {
     "iopub.execute_input": "2023-04-06T16:50:08.033392Z",
     "iopub.status.busy": "2023-04-06T16:50:08.032036Z",
     "iopub.status.idle": "2023-04-06T16:50:08.233112Z",
     "shell.execute_reply": "2023-04-06T16:50:08.231842Z"
    },
    "papermill": {
     "duration": 0.210544,
     "end_time": "2023-04-06T16:50:08.235599",
     "exception": false,
     "start_time": "2023-04-06T16:50:08.025055",
     "status": "completed"
    },
    "tags": []
   },
   "outputs": [
    {
     "data": {
      "image/png": "[encoded data removed]",
      "text/plain": [
       "<Figure size 640x480 with 1 Axes>"
      ]
     },
     "metadata": {},
     "output_type": "display_data"
    }
   ],
   "source": [
    "plt.scatter(X_train, y_train, color='red')\n",
    "plt.plot(X_test, y_predict)\n",
    "plt.xlabel('ELO Gained')\n",
    "plt.ylabel('Kills Per Game')\n",
    "plt.title('ELO Gained per Game by Kills in Valorant')\n",
    "plt.show()"
   ]
  },
  {
   "cell_type": "markdown",
   "id": "c6ce40a6",
   "metadata": {
    "papermill": {
     "duration": 0.005653,
     "end_time": "2023-04-06T16:50:08.247294",
     "exception": false,
     "start_time": "2023-04-06T16:50:08.241641",
     "status": "completed"
    },
    "tags": []
   },
   "source": [
    "## Conclusion 1\n",
    "\n",
    "The more kills you get, the more your ELO goes up sometimes"
   ]
  },
  {
   "cell_type": "markdown",
   "id": "42dbe203",
   "metadata": {
    "papermill": {
     "duration": 0.00563,
     "end_time": "2023-04-06T16:50:08.258696",
     "exception": false,
     "start_time": "2023-04-06T16:50:08.253066",
     "status": "completed"
    },
    "tags": []
   },
   "source": [
    "## Conclusion 2\n",
    "\n",
    "You can get under 20 kills and still receive almost 40 ELO to rank up"
   ]
  },
  {
   "cell_type": "markdown",
   "id": "ddfadb17",
   "metadata": {
    "papermill": {
     "duration": 0.005675,
     "end_time": "2023-04-06T16:50:08.270349",
     "exception": false,
     "start_time": "2023-04-06T16:50:08.264674",
     "status": "completed"
    },
    "tags": []
   },
   "source": [
    "## Conclusion 3\n",
    "\n",
    "Getting kills is not the most important thing to rank up, some other variables may come into consideration such as econ rating, deaths, assists, spikes planted"
   ]
  },
  {
   "cell_type": "code",
   "execution_count": null,
   "id": "a48b9ac4",
   "metadata": {
    "papermill": {
     "duration": 0.005497,
     "end_time": "2023-04-06T16:50:08.281574",
     "exception": false,
     "start_time": "2023-04-06T16:50:08.276077",
     "status": "completed"
    },
    "tags": []
   },
   "outputs": [],
   "source": []
  }
 ],
 "metadata": {
  "kernelspec": {
   "display_name": "Python 3",
   "language": "python",
   "name": "python3"
  },
  "language_info": {
   "codemirror_mode": {
    "name": "ipython",
    "version": 3
   },
   "file_extension": ".py",
   "mimetype": "text/x-python",
   "name": "python",
   "nbconvert_exporter": "python",
   "pygments_lexer": "ipython3",
   "version": "3.7.12"
  },
  "papermill": {
   "default_parameters": {},
   "duration": 12.10452,
   "end_time": "2023-04-06T16:50:09.009019",
   "environment_variables": {},
   "exception": null,
   "input_path": "__notebook__.ipynb",
   "output_path": "__notebook__.ipynb",
   "parameters": {},
   "start_time": "2023-04-06T16:49:56.904499",
   "version": "2.4.0"
  }
 },
 "nbformat": 4,
 "nbformat_minor": 5
}
