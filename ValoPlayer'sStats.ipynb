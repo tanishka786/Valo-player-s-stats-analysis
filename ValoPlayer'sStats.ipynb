{
 "cells": [
  {
   "cell_type": "markdown",
   "metadata": {},
   "source": [
    "# **Valorant player's stats analysis**"
   ]
  },
  {
   "cell_type": "markdown",
   "metadata": {},
   "source": [
    "### Gaming Understanding\n",
    "\n",
    "\n",
    "#### Valorant is a free-to-play first-person hero shooter developed and published by Riot Games. It was released for Microsoft Windows in June 2020. The game features a variety of characters, called Agents, each with unique abilities. Players must work together to complete objectives such as planting or defusing a bomb, or eliminating all enemy players.\n",
    "\n",
    "                                              \n",
    "![valorant.png](attachment:valorant.png)\n",
    "\n",
    "\n",
    "#### In this project, we focused to answer the following questions:\n",
    "1. Which store has minimum and maximum sales?\n",
    "2. Which store has maximum standard deviation i.e., the sales vary a lot. Also, find out the coefficient of mean to standard deviation\n",
    "3. Which store/s has good quarterly growth rate in Q3’2012\n",
    "4. Some holidays have a negative impact on sales. Find out holidays which have higher sales than the mean sales in non-holiday season for all stores together\n",
    "5. Provide a monthly and semester view of sales in units and give insights\n",
    "6. Build prediction to forecast demand.\n"
   ]
  },
  {
   "cell_type": "code",
   "execution_count": 1,
   "metadata": {},
   "outputs": [],
   "source": [
    "import numpy as np # linear algebra\n",
    "import pandas as pd # data processing, CSV file I/O (e.g. pd.read_csv)\n",
    "import matplotlib.pyplot as plt #used for ploting graph\n",
    "plt.style.use('bmh') #used for ploting graph\n",
    "plt.show() #display different types for chart and graphs\n",
    "\n",
    "# used for data classification using decision tree \n",
    "from sklearn.metrics import accuracy_score, confusion_matrix \n",
    "from sklearn.model_selection import train_test_split\n",
    "from sklearn.tree import DecisionTreeClassifier \n",
    "\n",
    "import seaborn as sns\n"
   ]
  },
  {
   "cell_type": "markdown",
   "metadata": {},
   "source": [
    "### **Fetching main file player statistics**"
   ]
  },
  {
   "cell_type": "code",
   "execution_count": 2,
   "metadata": {},
   "outputs": [
    {
     "data": {
      "text/html": [
       "<div>\n",
       "<style scoped>\n",
       "    .dataframe tbody tr th:only-of-type {\n",
       "        vertical-align: middle;\n",
       "    }\n",
       "\n",
       "    .dataframe tbody tr th {\n",
       "        vertical-align: top;\n",
       "    }\n",
       "\n",
       "    .dataframe thead th {\n",
       "        text-align: right;\n",
       "    }\n",
       "</style>\n",
       "<table border=\"1\" class=\"dataframe\">\n",
       "  <thead>\n",
       "    <tr style=\"text-align: right;\">\n",
       "      <th></th>\n",
       "      <th>Player</th>\n",
       "      <th>Age</th>\n",
       "      <th>Team</th>\n",
       "      <th>Current Team</th>\n",
       "      <th>Birth Date</th>\n",
       "      <th>Maps</th>\n",
       "      <th>Kills</th>\n",
       "      <th>Deaths</th>\n",
       "      <th>Assists</th>\n",
       "      <th>KillperDeath</th>\n",
       "      <th>KDA</th>\n",
       "      <th>ACS/Map</th>\n",
       "      <th>K/Map</th>\n",
       "      <th>D/Map</th>\n",
       "      <th>A/Map</th>\n",
       "    </tr>\n",
       "  </thead>\n",
       "  <tbody>\n",
       "    <tr>\n",
       "      <th>0</th>\n",
       "      <td>zekken</td>\n",
       "      <td>19.0</td>\n",
       "      <td>Sentinels</td>\n",
       "      <td>Sentinels</td>\n",
       "      <td>2005-03-19</td>\n",
       "      <td>20</td>\n",
       "      <td>381</td>\n",
       "      <td>314</td>\n",
       "      <td>90</td>\n",
       "      <td>1.21</td>\n",
       "      <td>1.50</td>\n",
       "      <td>259</td>\n",
       "      <td>19.0</td>\n",
       "      <td>15.7</td>\n",
       "      <td>4.5</td>\n",
       "    </tr>\n",
       "    <tr>\n",
       "      <th>1</th>\n",
       "      <td>ZmjjKK</td>\n",
       "      <td>20.0</td>\n",
       "      <td>EDward Gaming</td>\n",
       "      <td>EDward Gaming</td>\n",
       "      <td>2004-03-03</td>\n",
       "      <td>8</td>\n",
       "      <td>135</td>\n",
       "      <td>125</td>\n",
       "      <td>39</td>\n",
       "      <td>1.08</td>\n",
       "      <td>1.39</td>\n",
       "      <td>252</td>\n",
       "      <td>16.8</td>\n",
       "      <td>15.6</td>\n",
       "      <td>4.8</td>\n",
       "    </tr>\n",
       "    <tr>\n",
       "      <th>2</th>\n",
       "      <td>N4RRATE</td>\n",
       "      <td>21.0</td>\n",
       "      <td>Karmine Corp</td>\n",
       "      <td>Karmine Corp</td>\n",
       "      <td>2002-11-25</td>\n",
       "      <td>7</td>\n",
       "      <td>132</td>\n",
       "      <td>104</td>\n",
       "      <td>65</td>\n",
       "      <td>1.26</td>\n",
       "      <td>1.89</td>\n",
       "      <td>245</td>\n",
       "      <td>18.8</td>\n",
       "      <td>14.8</td>\n",
       "      <td>9.2</td>\n",
       "    </tr>\n",
       "    <tr>\n",
       "      <th>3</th>\n",
       "      <td>MiniBoo</td>\n",
       "      <td>19.0</td>\n",
       "      <td>Team Heretics</td>\n",
       "      <td>Team Heretics</td>\n",
       "      <td>2005-07-11</td>\n",
       "      <td>6</td>\n",
       "      <td>114</td>\n",
       "      <td>92</td>\n",
       "      <td>37</td>\n",
       "      <td>1.23</td>\n",
       "      <td>1.64</td>\n",
       "      <td>245</td>\n",
       "      <td>19.0</td>\n",
       "      <td>15.3</td>\n",
       "      <td>6.1</td>\n",
       "    </tr>\n",
       "    <tr>\n",
       "      <th>4</th>\n",
       "      <td>Autumn</td>\n",
       "      <td>23.0</td>\n",
       "      <td>FunPlus Phoenix</td>\n",
       "      <td>FunPlus Phoenix</td>\n",
       "      <td>2001-11-09</td>\n",
       "      <td>4</td>\n",
       "      <td>68</td>\n",
       "      <td>71</td>\n",
       "      <td>16</td>\n",
       "      <td>0.95</td>\n",
       "      <td>1.18</td>\n",
       "      <td>231</td>\n",
       "      <td>17.0</td>\n",
       "      <td>17.7</td>\n",
       "      <td>4.0</td>\n",
       "    </tr>\n",
       "  </tbody>\n",
       "</table>\n",
       "</div>"
      ],
      "text/plain": [
       "    Player   Age             Team     Current Team  Birth Date  Maps  Kills  \\\n",
       "0   zekken  19.0        Sentinels        Sentinels  2005-03-19    20    381   \n",
       "1   ZmjjKK  20.0    EDward Gaming    EDward Gaming  2004-03-03     8    135   \n",
       "2  N4RRATE  21.0     Karmine Corp     Karmine Corp  2002-11-25     7    132   \n",
       "3  MiniBoo  19.0    Team Heretics    Team Heretics  2005-07-11     6    114   \n",
       "4   Autumn  23.0  FunPlus Phoenix  FunPlus Phoenix  2001-11-09     4     68   \n",
       "\n",
       "   Deaths  Assists  KillperDeath   KDA  ACS/Map  K/Map  D/Map  A/Map  \n",
       "0     314       90          1.21  1.50      259   19.0   15.7    4.5  \n",
       "1     125       39          1.08  1.39      252   16.8   15.6    4.8  \n",
       "2     104       65          1.26  1.89      245   18.8   14.8    9.2  \n",
       "3      92       37          1.23  1.64      245   19.0   15.3    6.1  \n",
       "4      71       16          0.95  1.18      231   17.0   17.7    4.0  "
      ]
     },
     "execution_count": 2,
     "metadata": {},
     "output_type": "execute_result"
    }
   ],
   "source": [
    "df = pd.read_csv(\"Player Statistics.csv\")\n",
    "df.head()"
   ]
  },
  {
   "cell_type": "markdown",
   "metadata": {},
   "source": [
    "### **Fetching file map statistics** \n"
   ]
  },
  {
   "cell_type": "code",
   "execution_count": 3,
   "metadata": {},
   "outputs": [
    {
     "data": {
      "text/html": [
       "<div>\n",
       "<style scoped>\n",
       "    .dataframe tbody tr th:only-of-type {\n",
       "        vertical-align: middle;\n",
       "    }\n",
       "\n",
       "    .dataframe tbody tr th {\n",
       "        vertical-align: top;\n",
       "    }\n",
       "\n",
       "    .dataframe thead th {\n",
       "        text-align: right;\n",
       "    }\n",
       "</style>\n",
       "<table border=\"1\" class=\"dataframe\">\n",
       "  <thead>\n",
       "    <tr style=\"text-align: right;\">\n",
       "      <th></th>\n",
       "      <th>Map</th>\n",
       "      <th>Total</th>\n",
       "      <th>Round 1</th>\n",
       "      <th>Round 2</th>\n",
       "      <th>Round 3</th>\n",
       "      <th>Playoffs</th>\n",
       "    </tr>\n",
       "  </thead>\n",
       "  <tbody>\n",
       "    <tr>\n",
       "      <th>0</th>\n",
       "      <td>Ascent</td>\n",
       "      <td>6</td>\n",
       "      <td>1</td>\n",
       "      <td>0</td>\n",
       "      <td>1</td>\n",
       "      <td>4</td>\n",
       "    </tr>\n",
       "    <tr>\n",
       "      <th>1</th>\n",
       "      <td>Bind</td>\n",
       "      <td>7</td>\n",
       "      <td>2</td>\n",
       "      <td>1</td>\n",
       "      <td>1</td>\n",
       "      <td>3</td>\n",
       "    </tr>\n",
       "    <tr>\n",
       "      <th>2</th>\n",
       "      <td>Breeze</td>\n",
       "      <td>6</td>\n",
       "      <td>1</td>\n",
       "      <td>2</td>\n",
       "      <td>1</td>\n",
       "      <td>2</td>\n",
       "    </tr>\n",
       "    <tr>\n",
       "      <th>3</th>\n",
       "      <td>Icebox</td>\n",
       "      <td>7</td>\n",
       "      <td>2</td>\n",
       "      <td>2</td>\n",
       "      <td>1</td>\n",
       "      <td>2</td>\n",
       "    </tr>\n",
       "    <tr>\n",
       "      <th>4</th>\n",
       "      <td>Lotus</td>\n",
       "      <td>8</td>\n",
       "      <td>2</td>\n",
       "      <td>2</td>\n",
       "      <td>1</td>\n",
       "      <td>3</td>\n",
       "    </tr>\n",
       "  </tbody>\n",
       "</table>\n",
       "</div>"
      ],
      "text/plain": [
       "      Map  Total  Round 1  Round 2  Round 3  Playoffs\n",
       "0  Ascent      6        1        0        1         4\n",
       "1    Bind      7        2        1        1         3\n",
       "2  Breeze      6        1        2        1         2\n",
       "3  Icebox      7        2        2        1         2\n",
       "4   Lotus      8        2        2        1         3"
      ]
     },
     "execution_count": 3,
     "metadata": {},
     "output_type": "execute_result"
    },
    {
     "data": {
      "image/png": "[encoded data removed]",
      "text/plain": [
       "<Figure size 640x480 with 1 Axes>"
      ]
     },
     "metadata": {},
     "output_type": "display_data"
    }
   ],
   "source": [
    "df1 = pd.read_csv('Map Statistics.csv')\n",
    "#map na value \n",
    "x=df1['Map']\n",
    "y=df1['Playoffs']\n",
    "#Bar Graph\n",
    "plt.xlabel('Map',fontsize=18)\n",
    "plt.ylabel('Playoffs', fontsize=16)\n",
    "plt.bar(x,y)\n",
    "df1.head()"
   ]
  },
  {
   "cell_type": "markdown",
   "metadata": {},
   "source": [
    "### **Fetching file map banned**"
   ]
  },
  {
   "cell_type": "code",
   "execution_count": 4,
   "metadata": {},
   "outputs": [
    {
     "data": {
      "text/html": [
       "<div>\n",
       "<style scoped>\n",
       "    .dataframe tbody tr th:only-of-type {\n",
       "        vertical-align: middle;\n",
       "    }\n",
       "\n",
       "    .dataframe tbody tr th {\n",
       "        vertical-align: top;\n",
       "    }\n",
       "\n",
       "    .dataframe thead th {\n",
       "        text-align: right;\n",
       "    }\n",
       "</style>\n",
       "<table border=\"1\" class=\"dataframe\">\n",
       "  <thead>\n",
       "    <tr style=\"text-align: right;\">\n",
       "      <th></th>\n",
       "      <th>Map</th>\n",
       "      <th>Total</th>\n",
       "      <th>Round 1</th>\n",
       "      <th>Round 2</th>\n",
       "      <th>Round 3</th>\n",
       "      <th>Playoffs</th>\n",
       "    </tr>\n",
       "  </thead>\n",
       "  <tbody>\n",
       "    <tr>\n",
       "      <th>0</th>\n",
       "      <td>-</td>\n",
       "      <td>2</td>\n",
       "      <td>0</td>\n",
       "      <td>0</td>\n",
       "      <td>0</td>\n",
       "      <td>2</td>\n",
       "    </tr>\n",
       "    <tr>\n",
       "      <th>1</th>\n",
       "      <td>Ascent</td>\n",
       "      <td>10</td>\n",
       "      <td>3</td>\n",
       "      <td>4</td>\n",
       "      <td>1</td>\n",
       "      <td>2</td>\n",
       "    </tr>\n",
       "    <tr>\n",
       "      <th>2</th>\n",
       "      <td>Bind</td>\n",
       "      <td>9</td>\n",
       "      <td>2</td>\n",
       "      <td>3</td>\n",
       "      <td>1</td>\n",
       "      <td>3</td>\n",
       "    </tr>\n",
       "    <tr>\n",
       "      <th>3</th>\n",
       "      <td>Breeze</td>\n",
       "      <td>10</td>\n",
       "      <td>3</td>\n",
       "      <td>2</td>\n",
       "      <td>1</td>\n",
       "      <td>4</td>\n",
       "    </tr>\n",
       "    <tr>\n",
       "      <th>4</th>\n",
       "      <td>Icebox</td>\n",
       "      <td>9</td>\n",
       "      <td>2</td>\n",
       "      <td>2</td>\n",
       "      <td>1</td>\n",
       "      <td>4</td>\n",
       "    </tr>\n",
       "  </tbody>\n",
       "</table>\n",
       "</div>"
      ],
      "text/plain": [
       "      Map  Total  Round 1  Round 2  Round 3  Playoffs\n",
       "0       -      2        0        0        0         2\n",
       "1  Ascent     10        3        4        1         2\n",
       "2    Bind      9        2        3        1         3\n",
       "3  Breeze     10        3        2        1         4\n",
       "4  Icebox      9        2        2        1         4"
      ]
     },
     "execution_count": 4,
     "metadata": {},
     "output_type": "execute_result"
    },
    {
     "data": {
      "image/png": "[encoded data removed]",
      "text/plain": [
       "<Figure size 640x480 with 1 Axes>"
      ]
     },
     "metadata": {},
     "output_type": "display_data"
    }
   ],
   "source": [
    "df2 = pd.read_csv('Maps Banned.csv')\n",
    "#line Graph\n",
    "x=df2['Total']\n",
    "y=df2['Playoffs']\n",
    "plt.xlabel('Total',fontsize=18)\n",
    "plt.ylabel('Playoffs',fontsize=16)\n",
    "plt.scatter(x,y)\n",
    "plt.plot(x,y)\n",
    "df2.head()\n"
   ]
  },
  {
   "cell_type": "markdown",
   "metadata": {},
   "source": [
    "### **Fetching file side statistics**"
   ]
  },
  {
   "cell_type": "code",
   "execution_count": 5,
   "metadata": {},
   "outputs": [
    {
     "data": {
      "text/html": [
       "<div>\n",
       "<style scoped>\n",
       "    .dataframe tbody tr th:only-of-type {\n",
       "        vertical-align: middle;\n",
       "    }\n",
       "\n",
       "    .dataframe tbody tr th {\n",
       "        vertical-align: top;\n",
       "    }\n",
       "\n",
       "    .dataframe thead th {\n",
       "        text-align: right;\n",
       "    }\n",
       "</style>\n",
       "<table border=\"1\" class=\"dataframe\">\n",
       "  <thead>\n",
       "    <tr style=\"text-align: right;\">\n",
       "      <th></th>\n",
       "      <th>Map</th>\n",
       "      <th>Atk Wins Count</th>\n",
       "      <th>Atk Wins Percentage</th>\n",
       "      <th>Def Wins Count</th>\n",
       "      <th>Def Wins Percentage</th>\n",
       "    </tr>\n",
       "  </thead>\n",
       "  <tbody>\n",
       "    <tr>\n",
       "      <th>0</th>\n",
       "      <td>Ascent</td>\n",
       "      <td>54</td>\n",
       "      <td>50.0</td>\n",
       "      <td>54</td>\n",
       "      <td>50.0</td>\n",
       "    </tr>\n",
       "    <tr>\n",
       "      <th>1</th>\n",
       "      <td>Bind</td>\n",
       "      <td>47</td>\n",
       "      <td>49.5</td>\n",
       "      <td>48</td>\n",
       "      <td>50.5</td>\n",
       "    </tr>\n",
       "    <tr>\n",
       "      <th>2</th>\n",
       "      <td>Breeze</td>\n",
       "      <td>56</td>\n",
       "      <td>55.4</td>\n",
       "      <td>45</td>\n",
       "      <td>44.6</td>\n",
       "    </tr>\n",
       "    <tr>\n",
       "      <th>3</th>\n",
       "      <td>Icebox</td>\n",
       "      <td>68</td>\n",
       "      <td>54.0</td>\n",
       "      <td>58</td>\n",
       "      <td>46.0</td>\n",
       "    </tr>\n",
       "    <tr>\n",
       "      <th>4</th>\n",
       "      <td>Lotus</td>\n",
       "      <td>98</td>\n",
       "      <td>54.7</td>\n",
       "      <td>81</td>\n",
       "      <td>45.3</td>\n",
       "    </tr>\n",
       "  </tbody>\n",
       "</table>\n",
       "</div>"
      ],
      "text/plain": [
       "      Map  Atk Wins Count  Atk Wins Percentage  Def Wins Count  \\\n",
       "0  Ascent              54                 50.0              54   \n",
       "1    Bind              47                 49.5              48   \n",
       "2  Breeze              56                 55.4              45   \n",
       "3  Icebox              68                 54.0              58   \n",
       "4   Lotus              98                 54.7              81   \n",
       "\n",
       "   Def Wins Percentage  \n",
       "0                 50.0  \n",
       "1                 50.5  \n",
       "2                 44.6  \n",
       "3                 46.0  \n",
       "4                 45.3  "
      ]
     },
     "execution_count": 5,
     "metadata": {},
     "output_type": "execute_result"
    }
   ],
   "source": [
    "df3=pd.read_csv('Side Statistics.csv')\n",
    "df3.head()#Viewing the data record "
   ]
  },
  {
   "cell_type": "markdown",
   "metadata": {},
   "source": [
    "### **Basic steps / Basic Operations**"
   ]
  },
  {
   "cell_type": "markdown",
   "metadata": {},
   "source": [
    "**1. Show all columns in dataset**"
   ]
  },
  {
   "cell_type": "code",
   "execution_count": 6,
   "metadata": {},
   "outputs": [
    {
     "data": {
      "text/plain": [
       "Index(['Player', 'Age', 'Team', 'Current Team', 'Birth Date', 'Maps', 'Kills',\n",
       "       'Deaths', 'Assists', 'KillperDeath', 'KDA', 'ACS/Map', 'K/Map', 'D/Map',\n",
       "       'A/Map'],\n",
       "      dtype='object')"
      ]
     },
     "execution_count": 6,
     "metadata": {},
     "output_type": "execute_result"
    }
   ],
   "source": [
    "df.columns "
   ]
  },
  {
   "cell_type": "markdown",
   "metadata": {},
   "source": [
    "**2. Give info of player statistics**"
   ]
  },
  {
   "cell_type": "code",
   "execution_count": 7,
   "metadata": {},
   "outputs": [
    {
     "name": "stdout",
     "output_type": "stream",
     "text": [
      "<class 'pandas.core.frame.DataFrame'>\n",
      "RangeIndex: 42 entries, 0 to 41\n",
      "Data columns (total 15 columns):\n",
      " #   Column        Non-Null Count  Dtype  \n",
      "---  ------        --------------  -----  \n",
      " 0   Player        42 non-null     object \n",
      " 1   Age           42 non-null     float64\n",
      " 2   Team          42 non-null     object \n",
      " 3   Current Team  42 non-null     object \n",
      " 4   Birth Date    42 non-null     object \n",
      " 5   Maps          42 non-null     int64  \n",
      " 6   Kills         42 non-null     int64  \n",
      " 7   Deaths        42 non-null     int64  \n",
      " 8   Assists       42 non-null     int64  \n",
      " 9   KillperDeath  42 non-null     float64\n",
      " 10  KDA           42 non-null     float64\n",
      " 11  ACS/Map       42 non-null     int64  \n",
      " 12  K/Map         42 non-null     float64\n",
      " 13  D/Map         42 non-null     float64\n",
      " 14  A/Map         42 non-null     float64\n",
      "dtypes: float64(6), int64(5), object(4)\n",
      "memory usage: 5.1+ KB\n"
     ]
    }
   ],
   "source": [
    "df.info()"
   ]
  },
  {
   "cell_type": "markdown",
   "metadata": {},
   "source": [
    "**3. Give info of Map Satistics**"
   ]
  },
  {
   "cell_type": "code",
   "execution_count": 8,
   "metadata": {},
   "outputs": [
    {
     "name": "stdout",
     "output_type": "stream",
     "text": [
      "<class 'pandas.core.frame.DataFrame'>\n",
      "RangeIndex: 7 entries, 0 to 6\n",
      "Data columns (total 6 columns):\n",
      " #   Column    Non-Null Count  Dtype \n",
      "---  ------    --------------  ----- \n",
      " 0   Map       7 non-null      object\n",
      " 1   Total     7 non-null      int64 \n",
      " 2   Round 1   7 non-null      int64 \n",
      " 3   Round 2   7 non-null      int64 \n",
      " 4   Round 3   7 non-null      int64 \n",
      " 5   Playoffs  7 non-null      int64 \n",
      "dtypes: int64(5), object(1)\n",
      "memory usage: 468.0+ bytes\n"
     ]
    }
   ],
   "source": [
    "df1.info()"
   ]
  },
  {
   "cell_type": "markdown",
   "metadata": {},
   "source": [
    "**4. Give info of Map banned**"
   ]
  },
  {
   "cell_type": "code",
   "execution_count": 9,
   "metadata": {},
   "outputs": [
    {
     "name": "stdout",
     "output_type": "stream",
     "text": [
      "<class 'pandas.core.frame.DataFrame'>\n",
      "RangeIndex: 8 entries, 0 to 7\n",
      "Data columns (total 6 columns):\n",
      " #   Column    Non-Null Count  Dtype \n",
      "---  ------    --------------  ----- \n",
      " 0   Map       8 non-null      object\n",
      " 1   Total     8 non-null      int64 \n",
      " 2   Round 1   8 non-null      int64 \n",
      " 3   Round 2   8 non-null      int64 \n",
      " 4   Round 3   8 non-null      int64 \n",
      " 5   Playoffs  8 non-null      int64 \n",
      "dtypes: int64(5), object(1)\n",
      "memory usage: 516.0+ bytes\n"
     ]
    }
   ],
   "source": [
    "df2.info()"
   ]
  },
  {
   "cell_type": "markdown",
   "metadata": {},
   "source": [
    "**5. Give info of Side statistics**"
   ]
  },
  {
   "cell_type": "code",
   "execution_count": 10,
   "metadata": {},
   "outputs": [
    {
     "name": "stdout",
     "output_type": "stream",
     "text": [
      "<class 'pandas.core.frame.DataFrame'>\n",
      "RangeIndex: 7 entries, 0 to 6\n",
      "Data columns (total 5 columns):\n",
      " #   Column               Non-Null Count  Dtype  \n",
      "---  ------               --------------  -----  \n",
      " 0   Map                  7 non-null      object \n",
      " 1   Atk Wins Count       7 non-null      int64  \n",
      " 2   Atk Wins Percentage  7 non-null      float64\n",
      " 3   Def Wins Count       7 non-null      int64  \n",
      " 4   Def Wins Percentage  7 non-null      float64\n",
      "dtypes: float64(2), int64(2), object(1)\n",
      "memory usage: 412.0+ bytes\n"
     ]
    }
   ],
   "source": [
    "df3.info()"
   ]
  },
  {
   "cell_type": "markdown",
   "metadata": {},
   "source": [
    "**6. No. of duplicate dataitem in Player statics:**"
   ]
  },
  {
   "cell_type": "code",
   "execution_count": 11,
   "metadata": {},
   "outputs": [
    {
     "data": {
      "text/plain": [
       "0"
      ]
     },
     "execution_count": 11,
     "metadata": {},
     "output_type": "execute_result"
    }
   ],
   "source": [
    "df.duplicated().sum()"
   ]
  },
  {
   "cell_type": "markdown",
   "metadata": {},
   "source": [
    "**7.Performing decidion tree operation on the following target column :**"
   ]
  },
  {
   "cell_type": "code",
   "execution_count": 12,
   "metadata": {},
   "outputs": [
    {
     "data": {
      "text/plain": [
       "(42, 15)"
      ]
     },
     "execution_count": 12,
     "metadata": {},
     "output_type": "execute_result"
    }
   ],
   "source": [
    "#gives no. of rows & no. of columns \n",
    "df.shape"
   ]
  },
  {
   "cell_type": "markdown",
   "metadata": {},
   "source": [
    "**Checking the null values in the Player's statistic** "
   ]
  },
  {
   "cell_type": "code",
   "execution_count": 13,
   "metadata": {},
   "outputs": [
    {
     "data": {
      "text/html": [
       "<div>\n",
       "<style scoped>\n",
       "    .dataframe tbody tr th:only-of-type {\n",
       "        vertical-align: middle;\n",
       "    }\n",
       "\n",
       "    .dataframe tbody tr th {\n",
       "        vertical-align: top;\n",
       "    }\n",
       "\n",
       "    .dataframe thead th {\n",
       "        text-align: right;\n",
       "    }\n",
       "</style>\n",
       "<table border=\"1\" class=\"dataframe\">\n",
       "  <thead>\n",
       "    <tr style=\"text-align: right;\">\n",
       "      <th></th>\n",
       "      <th>Player</th>\n",
       "      <th>Age</th>\n",
       "      <th>Team</th>\n",
       "      <th>Current Team</th>\n",
       "      <th>Birth Date</th>\n",
       "      <th>Maps</th>\n",
       "      <th>Kills</th>\n",
       "      <th>Deaths</th>\n",
       "      <th>Assists</th>\n",
       "      <th>KillperDeath</th>\n",
       "      <th>KDA</th>\n",
       "      <th>ACS/Map</th>\n",
       "      <th>K/Map</th>\n",
       "      <th>D/Map</th>\n",
       "      <th>A/Map</th>\n",
       "    </tr>\n",
       "  </thead>\n",
       "  <tbody>\n",
       "  </tbody>\n",
       "</table>\n",
       "</div>"
      ],
      "text/plain": [
       "Empty DataFrame\n",
       "Columns: [Player, Age, Team, Current Team, Birth Date, Maps, Kills, Deaths, Assists, KillperDeath, KDA, ACS/Map, K/Map, D/Map, A/Map]\n",
       "Index: []"
      ]
     },
     "execution_count": 13,
     "metadata": {},
     "output_type": "execute_result"
    }
   ],
   "source": [
    "df[df.isnull().any(axis=1)].head()\n",
    "#no need of data cleaning as redundant data not found\n"
   ]
  },
  {
   "cell_type": "code",
   "execution_count": 14,
   "metadata": {},
   "outputs": [
    {
     "data": {
      "text/html": [
       "<div>\n",
       "<style scoped>\n",
       "    .dataframe tbody tr th:only-of-type {\n",
       "        vertical-align: middle;\n",
       "    }\n",
       "\n",
       "    .dataframe tbody tr th {\n",
       "        vertical-align: top;\n",
       "    }\n",
       "\n",
       "    .dataframe thead th {\n",
       "        text-align: right;\n",
       "    }\n",
       "</style>\n",
       "<table border=\"1\" class=\"dataframe\">\n",
       "  <thead>\n",
       "    <tr style=\"text-align: right;\">\n",
       "      <th></th>\n",
       "      <th>Assists</th>\n",
       "    </tr>\n",
       "  </thead>\n",
       "  <tbody>\n",
       "    <tr>\n",
       "      <th>0</th>\n",
       "      <td>90</td>\n",
       "    </tr>\n",
       "    <tr>\n",
       "      <th>1</th>\n",
       "      <td>39</td>\n",
       "    </tr>\n",
       "    <tr>\n",
       "      <th>2</th>\n",
       "      <td>65</td>\n",
       "    </tr>\n",
       "    <tr>\n",
       "      <th>3</th>\n",
       "      <td>37</td>\n",
       "    </tr>\n",
       "    <tr>\n",
       "      <th>4</th>\n",
       "      <td>16</td>\n",
       "    </tr>\n",
       "  </tbody>\n",
       "</table>\n",
       "</div>"
      ],
      "text/plain": [
       "   Assists\n",
       "0       90\n",
       "1       39\n",
       "2       65\n",
       "3       37\n",
       "4       16"
      ]
     },
     "execution_count": 14,
     "metadata": {},
     "output_type": "execute_result"
    }
   ],
   "source": [
    "#creating new coloum as y and coping data from df.player stats\n",
    "y = df[['Assists']].copy()\n",
    "y.head()"
   ]
  },
  {
   "cell_type": "code",
   "execution_count": 15,
   "metadata": {},
   "outputs": [
    {
     "data": {
      "text/plain": [
       "Index(['Deaths'], dtype='object')"
      ]
     },
     "execution_count": 15,
     "metadata": {},
     "output_type": "execute_result"
    }
   ],
   "source": [
    "x = df[['Deaths']].copy()\n",
    "x.columns"
   ]
  },
  {
   "cell_type": "markdown",
   "metadata": {},
   "source": [
    "**Project by<br>**\n",
    "**Tanishka Das<br>**\n",
    "**Anushka Chavan<br>**\n",
    "**Shruti Borhade<br>**\n",
    "[GitHub](https://github.com/tanishka786/Valo-player-s-stats-analysis.git)\n"
   ]
  }
 ],
 "metadata": {
  "kernelspec": {
   "display_name": "Python 3",
   "language": "python",
   "name": "python3"
  },
  "language_info": {
   "codemirror_mode": {
    "name": "ipython",
    "version": 3
   },
   "file_extension": ".py",
   "mimetype": "text/x-python",
   "name": "python",
   "nbconvert_exporter": "python",
   "pygments_lexer": "ipython3",
   "version": "3.12.4"
  }
 },
 "nbformat": 4,
 "nbformat_minor": 2
}
